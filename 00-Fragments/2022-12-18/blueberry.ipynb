{
 "cells": [
  {
   "attachments": {},
   "cell_type": "markdown",
   "metadata": {},
   "source": [
    "#### 合成数据函数 synthetic_data"
   ]
  },
  {
   "cell_type": "code",
   "execution_count": 226,
   "metadata": {},
   "outputs": [],
   "source": [
    "import torch\n",
    "\n",
    "def synthetic_data(w, b, num_examples, std=0.01):\n",
    "    \"\"\"\n",
    "    根据权重 w 和 偏置b 合成数据\n",
    "    生成 num_examples 个数据样本\n",
    "    \"\"\"\n",
    "    X = torch.normal(0, 1, (num_examples, len(w)), dtype=torch.float32)\n",
    "    y = torch.matmul(X, w) + b\n",
    "    # 再给 y 增加点噪音\n",
    "    y += torch.normal(0, std, y.shape)\n",
    "    return X, y.reshape(-1, 1)"
   ]
  },
  {
   "attachments": {},
   "cell_type": "markdown",
   "metadata": {},
   "source": [
    "#### 线性数据的权重 和 偏置项"
   ]
  },
  {
   "cell_type": "code",
   "execution_count": 227,
   "metadata": {},
   "outputs": [
    {
     "data": {
      "text/plain": [
       "(tensor([3.]), tensor([2.]))"
      ]
     },
     "execution_count": 227,
     "metadata": {},
     "output_type": "execute_result"
    }
   ],
   "source": [
    "true_w = torch.tensor([3], dtype=torch.float32)\n",
    "true_b = torch.tensor([2], dtype=torch.float32)\n",
    "true_w, true_b"
   ]
  },
  {
   "attachments": {},
   "cell_type": "markdown",
   "metadata": {},
   "source": [
    "#### 创建数据集"
   ]
  },
  {
   "cell_type": "code",
   "execution_count": 228,
   "metadata": {},
   "outputs": [],
   "source": [
    "X, y = synthetic_data(true_w, true_b, 300, 1)"
   ]
  },
  {
   "attachments": {},
   "cell_type": "markdown",
   "metadata": {},
   "source": [
    "#### 绘制数据集"
   ]
  },
  {
   "cell_type": "code",
   "execution_count": 229,
   "metadata": {},
   "outputs": [
    {
     "data": {
      "image/png": "[encoded data removed]",
      "text/plain": [
       "<Figure size 432x288 with 1 Axes>"
      ]
     },
     "metadata": {
      "needs_background": "light"
     },
     "output_type": "display_data"
    }
   ],
   "source": [
    "import matplotlib.pyplot as plt\n",
    "\n",
    "plt.scatter(X.numpy().reshape(-1), y.numpy().reshape(-1))\n",
    "plt.show()"
   ]
  },
  {
   "attachments": {},
   "cell_type": "markdown",
   "metadata": {},
   "source": [
    "#### 定义模型"
   ]
  },
  {
   "cell_type": "code",
   "execution_count": 230,
   "metadata": {},
   "outputs": [],
   "source": [
    "import torch.nn as nn\n",
    "\n",
    "class Net(nn.Module):\n",
    "    def __init__(self) -> None:\n",
    "        super().__init__()\n",
    "        self.linear = nn.Linear(1, 1)\n",
    "\n",
    "    def forward(self, X):\n",
    "        return self.linear(X)"
   ]
  },
  {
   "attachments": {},
   "cell_type": "markdown",
   "metadata": {},
   "source": [
    "#### 设置训练参数"
   ]
  },
  {
   "cell_type": "code",
   "execution_count": 231,
   "metadata": {},
   "outputs": [],
   "source": [
    "epochs = 30\n",
    "batch_size = 50\n",
    "lr = 0.01"
   ]
  },
  {
   "attachments": {},
   "cell_type": "markdown",
   "metadata": {},
   "source": [
    "#### 创建数据迭代器"
   ]
  },
  {
   "cell_type": "code",
   "execution_count": 232,
   "metadata": {},
   "outputs": [],
   "source": [
    "from torch.utils import data\n",
    "\n",
    "def load_data_iter(X, y, batch_size):\n",
    "    dataset = data.TensorDataset(X, y)\n",
    "    return data.DataLoader(dataset, batch_size=batch_size)"
   ]
  },
  {
   "cell_type": "code",
   "execution_count": 233,
   "metadata": {},
   "outputs": [],
   "source": [
    "data_iter = load_data_iter(X, y, batch_size)"
   ]
  },
  {
   "attachments": {},
   "cell_type": "markdown",
   "metadata": {},
   "source": [
    "#### 创建模型"
   ]
  },
  {
   "cell_type": "code",
   "execution_count": 234,
   "metadata": {},
   "outputs": [],
   "source": [
    "net = Net()"
   ]
  },
  {
   "attachments": {},
   "cell_type": "markdown",
   "metadata": {},
   "source": [
    "#### 定义优化器"
   ]
  },
  {
   "cell_type": "code",
   "execution_count": 235,
   "metadata": {},
   "outputs": [],
   "source": [
    "trainer = torch.optim.SGD(net.parameters(), lr=lr)"
   ]
  },
  {
   "attachments": {},
   "cell_type": "markdown",
   "metadata": {},
   "source": [
    "#### 定义损失函数"
   ]
  },
  {
   "cell_type": "code",
   "execution_count": 236,
   "metadata": {},
   "outputs": [],
   "source": [
    "loss = torch.nn.MSELoss()"
   ]
  },
  {
   "attachments": {},
   "cell_type": "markdown",
   "metadata": {},
   "source": [
    "#### 模型训练"
   ]
  },
  {
   "cell_type": "code",
   "execution_count": 237,
   "metadata": {},
   "outputs": [
    {
     "name": "stdout",
     "output_type": "stream",
     "text": [
      "当前是第 1 论训练\n",
      "当前是第 2 论训练\n",
      "当前是第 3 论训练\n",
      "当前是第 4 论训练\n",
      "当前是第 5 论训练\n",
      "当前是第 6 论训练\n",
      "当前是第 7 论训练\n",
      "当前是第 8 论训练\n",
      "当前是第 9 论训练\n",
      "当前是第 10 论训练\n",
      "当前是第 11 论训练\n",
      "当前是第 12 论训练\n",
      "当前是第 13 论训练\n",
      "当前是第 14 论训练\n",
      "当前是第 15 论训练\n",
      "当前是第 16 论训练\n",
      "当前是第 17 论训练\n",
      "当前是第 18 论训练\n",
      "当前是第 19 论训练\n",
      "当前是第 20 论训练\n",
      "当前是第 21 论训练\n",
      "当前是第 22 论训练\n",
      "当前是第 23 论训练\n",
      "当前是第 24 论训练\n",
      "当前是第 25 论训练\n",
      "当前是第 26 论训练\n",
      "当前是第 27 论训练\n",
      "当前是第 28 论训练\n",
      "当前是第 29 论训练\n",
      "当前是第 30 论训练\n"
     ]
    }
   ],
   "source": [
    "for epoch in range(epochs):\n",
    "    for _X, _y in data_iter:\n",
    "        l = loss(_y, net.forward(_X))\n",
    "        trainer.zero_grad()\n",
    "        l.backward()\n",
    "        trainer.step()\n",
    "\n",
    "    print(f'当前是第 {epoch+1} 轮训练')"
   ]
  },
  {
   "cell_type": "code",
   "execution_count": 238,
   "metadata": {},
   "outputs": [
    {
     "data": {
      "text/plain": [
       "(tensor([[2.9516]]), tensor([1.9180]))"
      ]
     },
     "execution_count": 238,
     "metadata": {},
     "output_type": "execute_result"
    }
   ],
   "source": [
    "net.linear.weight.data, net.linear.bias.data"
   ]
  },
  {
   "cell_type": "code",
   "execution_count": null,
   "metadata": {},
   "outputs": [],
   "source": []
  }
 ],
 "metadata": {
  "kernelspec": {
   "display_name": "d2l",
   "language": "python",
   "name": "python3"
  },
  "language_info": {
   "codemirror_mode": {
    "name": "ipython",
    "version": 3
   },
   "file_extension": ".py",
   "mimetype": "text/x-python",
   "name": "python",
   "nbconvert_exporter": "python",
   "pygments_lexer": "ipython3",
   "version": "3.8.13"
  },
  "orig_nbformat": 4,
  "vscode": {
   "interpreter": {
    "hash": "86bb26bcf3701c754d5fd40db657c5b7e15a074c1099b32f8fc32052c18ad091"
   }
  }
 },
 "nbformat": 4,
 "nbformat_minor": 2
}
